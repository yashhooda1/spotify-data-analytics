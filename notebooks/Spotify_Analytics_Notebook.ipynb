{
 "cells": [
  {
   "cell_type": "markdown",
   "id": "872d4a05",
   "metadata": {},
   "source": [
    "# 🎵 Spotify Data Analytics — Notebook\n",
    "\n",
    "This notebook loads your cleaned Spotify streaming history from `data/processed/streaming_history_clean.csv`\n",
    "and produces a few quick insights & charts:\n",
    "\n",
    "- Daily listening minutes (time series)\n",
    "- 7-day rolling average of listening minutes\n",
    "- Top artists (by total minutes) — bar chart\n",
    "- Top tracks (by total minutes) — bar chart\n",
    "- Monthly listening minutes (aggregate)\n",
    "\n",
    "> **Note:** Keep your private raw export out of git; this notebook only reads the cleaned CSV produced by `src/process_spotify_data.py`.\n"
   ]
  },
  {
   "cell_type": "code",
   "execution_count": null,
   "id": "52baa429",
   "metadata": {},
   "outputs": [],
   "source": [
    "from pathlib import Path\n",
    "import pandas as pd\n",
    "import matplotlib.pyplot as plt\n",
    "\n",
    "DATA_PROCESSED = Path('data/processed/streaming_history_clean.csv')\n",
    "AN_DIR = Path('data/analytics')\n",
    "FIG_DIR = AN_DIR / 'figures'\n",
    "FIG_DIR.mkdir(parents=True, exist_ok=True)\n",
    "\n",
    "assert DATA_PROCESSED.exists(), f\"Could not find {DATA_PROCESSED}. Run the script: python src/process_spotify_data.py --input data/raw\"\n",
    "\n",
    "# Load data\n",
    "df = pd.read_csv(DATA_PROCESSED)\n",
    "\n",
    "# Parse timestamps\n",
    "df['played_at'] = pd.to_datetime(df['played_at'], utc=True, errors='coerce')\n",
    "df = df.dropna(subset=['played_at'])\n",
    "df['date'] = pd.to_datetime(df['played_at'].dt.date)\n",
    "df['ms_played'] = pd.to_numeric(df['ms_played'], errors='coerce').fillna(0).astype('int64')\n",
    "\n",
    "df.head()"
   ]
  },
  {
   "cell_type": "markdown",
   "id": "aad91e76",
   "metadata": {},
   "source": [
    "## Quick sanity checks"
   ]
  },
  {
   "cell_type": "code",
   "execution_count": null,
   "id": "981c4aa4",
   "metadata": {},
   "outputs": [],
   "source": [
    "total_minutes = df['ms_played'].sum() / 60000.0\n",
    "n_plays = len(df)\n",
    "date_range = (df['date'].min(), df['date'].max())\n",
    "print(f\"Total plays: {n_plays:,}\")\n",
    "print(f\"Total listening minutes: {total_minutes:,.2f}\") \n",
    "print(f\"Date range: {date_range[0]} → {date_range[1]}\")"
   ]
  },
  {
   "cell_type": "markdown",
   "id": "a3726163",
   "metadata": {},
   "source": [
    "## Daily listening minutes — time series"
   ]
  },
  {
   "cell_type": "code",
   "execution_count": null,
   "id": "b3570dc4",
   "metadata": {},
   "outputs": [],
   "source": [
    "daily = df.groupby('date', dropna=True)['ms_played'].sum().reset_index()\n",
    "daily['minutes'] = daily['ms_played'] / 60000.0\n",
    "daily = daily[['date','minutes']].sort_values('date')\n",
    "\n",
    "plt.figure()\n",
    "plt.plot(daily['date'], daily['minutes'])\n",
    "plt.title('Listening Minutes by Day')\n",
    "plt.xlabel('Date')\n",
    "plt.ylabel('Minutes')\n",
    "plt.tight_layout()\n",
    "plt.savefig(FIG_DIR / 'daily_minutes_timeseries.png')\n",
    "plt.show()\n",
    "\n",
    "daily.tail(10)"
   ]
  },
  {
   "cell_type": "markdown",
   "id": "da4250cf",
   "metadata": {},
   "source": [
    "## 7-day rolling average of daily minutes"
   ]
  },
  {
   "cell_type": "code",
   "execution_count": null,
   "id": "16a8b8f1",
   "metadata": {},
   "outputs": [],
   "source": [
    "daily_rolling = daily.copy()\n",
    "daily_rolling['roll7'] = daily_rolling['minutes'].rolling(window=7, min_periods=1).mean()\n",
    "\n",
    "plt.figure()\n",
    "plt.plot(daily_rolling['date'], daily_rolling['roll7'])\n",
    "plt.title('7-Day Rolling Average of Listening Minutes')\n",
    "plt.xlabel('Date')\n",
    "plt.ylabel('Minutes (7-day avg)')\n",
    "plt.tight_layout()\n",
    "plt.savefig(FIG_DIR / 'daily_minutes_rolling7.png')\n",
    "plt.show()\n",
    "\n",
    "daily_rolling.tail(10)"
   ]
  },
  {
   "cell_type": "markdown",
   "id": "942ce0be",
   "metadata": {},
   "source": [
    "## Top artists by total minutes"
   ]
  },
  {
   "cell_type": "code",
   "execution_count": null,
   "id": "a2058804",
   "metadata": {},
   "outputs": [],
   "source": [
    "top_artists = (df.groupby('artist', dropna=True)['ms_played']\n",
    "                  .sum()\n",
    "                  .sort_values(ascending=False)\n",
    "                  .head(15)\n",
    "                  .reset_index())\n",
    "\n",
    "top_artists['minutes'] = top_artists['ms_played'] / 60000.0\n",
    "\n",
    "plt.figure()\n",
    "plt.barh(top_artists['artist'][::-1], top_artists['minutes'][::-1])\n",
    "plt.title('Top 15 Artists by Minutes')\n",
    "plt.xlabel('Minutes')\n",
    "plt.ylabel('Artist')\n",
    "plt.tight_layout()\n",
    "plt.savefig(FIG_DIR / 'top_artists_minutes.png')\n",
    "plt.show()\n",
    "\n",
    "top_artists[['artist','minutes']].head(15)"
   ]
  },
  {
   "cell_type": "markdown",
   "id": "2e0f3389",
   "metadata": {},
   "source": [
    "## Top tracks by total minutes"
   ]
  },
  {
   "cell_type": "code",
   "execution_count": null,
   "id": "a005f545",
   "metadata": {},
   "outputs": [],
   "source": [
    "top_tracks = (df.groupby(['track','artist'], dropna=True)['ms_played']\n",
    "                .sum()\n",
    "                .sort_values(ascending=False)\n",
    "                .head(15)\n",
    "                .reset_index())\n",
    "\n",
    "top_tracks['minutes'] = top_tracks['ms_played'] / 60000.0\n",
    "\n",
    "labels = top_tracks.apply(lambda r: f\"{r['track']} — {r['artist']}\", axis=1)\n",
    "\n",
    "plt.figure()\n",
    "plt.barh(labels[::-1], top_tracks['minutes'][::-1])\n",
    "plt.title('Top 15 Tracks by Minutes')\n",
    "plt.xlabel('Minutes')\n",
    "plt.ylabel('Track — Artist')\n",
    "plt.tight_layout()\n",
    "plt.savefig(FIG_DIR / 'top_tracks_minutes.png')\n",
    "plt.show()\n",
    "\n",
    "top_tracks[['track','artist','minutes']].head(15)"
   ]
  },
  {
   "cell_type": "markdown",
   "id": "f3829864",
   "metadata": {},
   "source": [
    "## Monthly listening minutes"
   ]
  },
  {
   "cell_type": "code",
   "execution_count": null,
   "id": "bdd486af",
   "metadata": {},
   "outputs": [],
   "source": [
    "df['month'] = df['date'].astype('datetime64[M]')\n",
    "monthly = df.groupby('month')['ms_played'].sum().reset_index()\n",
    "monthly['minutes'] = monthly['ms_played'] / 60000.0\n",
    "\n",
    "plt.figure()\n",
    "plt.plot(monthly['month'], monthly['minutes'])\n",
    "plt.title('Monthly Listening Minutes')\n",
    "plt.xlabel('Month')\n",
    "plt.ylabel('Minutes')\n",
    "plt.tight_layout()\n",
    "plt.savefig(FIG_DIR / 'monthly_minutes.png')\n",
    "plt.show()\n",
    "\n",
    "monthly.tail(12)"
   ]
  }
 ],
 "metadata": {},
 "nbformat": 4,
 "nbformat_minor": 5
}
